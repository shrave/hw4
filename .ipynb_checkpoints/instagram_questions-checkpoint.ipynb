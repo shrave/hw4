{
 "cells": [
  {
   "cell_type": "code",
   "execution_count": 1,
   "metadata": {
    "collapsed": true,
    "deletable": true,
    "editable": true
   },
   "outputs": [],
   "source": [
    "import json\n",
    "import pandas as pd\n",
    "import requests\n",
    "from ipywidgets import Image\n",
    "import math\n",
    "import re\n",
    "import operator\n",
    "from wordcloud import WordCloud, STOPWORDS\n",
    "import matplotlib.pyplot as plt"
   ]
  },
  {
   "cell_type": "code",
   "execution_count": 2,
   "metadata": {
    "collapsed": true,
    "deletable": true,
    "editable": true
   },
   "outputs": [],
   "source": [
    "def dict_sort_des(diction):\n",
    "    sorted_d = sorted(diction.items(), key=operator.itemgetter(1),reverse=True)\n",
    "    return sorted_d\n",
    "\n",
    "def wordcloud_plot(text, colour):\n",
    "    wordcloud = WordCloud(\n",
    "        width = 3000,\n",
    "        height = 2000,\n",
    "        background_color = colour,\n",
    "        stopwords = STOPWORDS).generate(str(text))\n",
    "\n",
    "    fig = plt.figure(\n",
    "        figsize = (40, 30),\n",
    "        facecolor = 'k',\n",
    "        edgecolor = 'k')\n",
    "\n",
    "    plt.imshow(wordcloud, interpolation = 'bilinear')\n",
    "    plt.axis('off')\n",
    "    plt.tight_layout(pad=0)\n",
    "    return plt.show()\n",
    "\n",
    "def clean_tweet(tweet):\n",
    "    return ' '.join(re.sub(r\"(@[A-Za-z0-9]+)|([^0-9A-Za-z \\t])|(\\w+:\\/\\/\\S+)\", \" \", tweet).split())"
   ]
  },
  {
   "cell_type": "code",
   "execution_count": 3,
   "metadata": {
    "collapsed": true,
    "deletable": true,
    "editable": true
   },
   "outputs": [],
   "source": [
    "with open('incindia.json', 'r') as myfile:\n",
    "    data=myfile.read()\n",
    "obj = json.loads(data)"
   ]
  },
  {
   "cell_type": "code",
   "execution_count": 4,
   "metadata": {
    "collapsed": false,
    "deletable": true,
    "editable": true
   },
   "outputs": [
    {
     "name": "stdout",
     "output_type": "stream",
     "text": [
      "Most liked post ID: Bs-IxK3FTIx\n",
      "Most commented post ID: BvThii1FXva\n"
     ]
    }
   ],
   "source": [
    "max_like = -100\n",
    "maxl_index = -1\n",
    "max_comments = -100\n",
    "maxc_index = -1\n",
    "for k in obj['posts']:\n",
    "    l = k['likes']['count']\n",
    "    if (l) > max_like:\n",
    "        max_like = l\n",
    "        maxl_index = obj['posts'].index(k)\n",
    "    if k['comments']['count']>max_comments:\n",
    "        max_comments = k['comments']['count']\n",
    "        maxc_index = obj['posts'].index(k)\n",
    "print(\"Most liked post ID:\", obj['posts'][maxl_index]['url'].split('/')[-2])\n",
    "print(\"Most commented post ID:\",obj['posts'][maxc_index]['url'].split('/')[-2])"
   ]
  },
  {
   "cell_type": "markdown",
   "metadata": {
    "deletable": true,
    "editable": true
   },
   "source": [
    "## Most liked post."
   ]
  },
  {
   "cell_type": "code",
   "execution_count": 5,
   "metadata": {
    "collapsed": false,
    "deletable": true,
    "editable": true
   },
   "outputs": [
    {
     "name": "stderr",
     "output_type": "stream",
     "text": [
      "Widget Javascript not detected.  It may not be installed properly. Did you enable the widgetsnbextension? If not, then run \"jupyter nbextension enable --py --sys-prefix widgetsnbextension\"\n"
     ]
    }
   ],
   "source": [
    "Image(value=requests.get(obj['posts'][maxl_index]['preview_img']).content)"
   ]
  },
  {
   "cell_type": "markdown",
   "metadata": {
    "deletable": true,
    "editable": true
   },
   "source": [
    "## Most commented post."
   ]
  },
  {
   "cell_type": "code",
   "execution_count": 6,
   "metadata": {
    "collapsed": false,
    "deletable": true,
    "editable": true
   },
   "outputs": [
    {
     "name": "stderr",
     "output_type": "stream",
     "text": [
      "Widget Javascript not detected.  It may not be installed properly. Did you enable the widgetsnbextension? If not, then run \"jupyter nbextension enable --py --sys-prefix widgetsnbextension\"\n"
     ]
    }
   ],
   "source": [
    "Image(value=requests.get(obj['posts'][maxc_index]['preview_img']).content)"
   ]
  },
  {
   "cell_type": "markdown",
   "metadata": {
    "deletable": true,
    "editable": true
   },
   "source": [
    "## Popularity score -> log(views)+log(likes)+comments"
   ]
  },
  {
   "cell_type": "code",
   "execution_count": 7,
   "metadata": {
    "collapsed": true,
    "deletable": true,
    "editable": true
   },
   "outputs": [],
   "source": [
    "post_list = obj['posts']\n",
    "top_five_indices = []\n",
    "for j in range(5):\n",
    "    max_score = -100\n",
    "    max_index = -1\n",
    "    for k in post_list:\n",
    "#         print(k)\n",
    "        l = math.log(k['likes']['count']+1) + math.log(k['views']+1)+k['comments']['count']\n",
    "        if l>max_score:\n",
    "            max_score = l\n",
    "            max_index = obj['posts'].index(k)\n",
    "    top_five_indices.append(obj['posts'][max_index])\n",
    "    post_list.remove(obj['posts'][max_index])"
   ]
  },
  {
   "cell_type": "code",
   "execution_count": 8,
   "metadata": {
    "collapsed": false,
    "deletable": true,
    "editable": true
   },
   "outputs": [
    {
     "ename": "NameError",
     "evalue": "name 'display' is not defined",
     "output_type": "error",
     "traceback": [
      "\u001b[0;31m---------------------------------------------------------------------------\u001b[0m",
      "\u001b[0;31mNameError\u001b[0m                                 Traceback (most recent call last)",
      "\u001b[0;32m<ipython-input-8-09906f0e340b>\u001b[0m in \u001b[0;36m<module>\u001b[0;34m()\u001b[0m\n\u001b[1;32m      1\u001b[0m \u001b[0;32mfor\u001b[0m \u001b[0mk\u001b[0m \u001b[0;32min\u001b[0m \u001b[0mtop_five_indices\u001b[0m\u001b[0;34m:\u001b[0m\u001b[0;34m\u001b[0m\u001b[0m\n\u001b[0;32m----> 2\u001b[0;31m     \u001b[0mdisplay\u001b[0m\u001b[0;34m(\u001b[0m\u001b[0mImage\u001b[0m\u001b[0;34m(\u001b[0m\u001b[0mvalue\u001b[0m\u001b[0;34m=\u001b[0m\u001b[0mrequests\u001b[0m\u001b[0;34m.\u001b[0m\u001b[0mget\u001b[0m\u001b[0;34m(\u001b[0m\u001b[0mk\u001b[0m\u001b[0;34m[\u001b[0m\u001b[0;34m'preview_img'\u001b[0m\u001b[0;34m]\u001b[0m\u001b[0;34m)\u001b[0m\u001b[0;34m.\u001b[0m\u001b[0mcontent\u001b[0m\u001b[0;34m)\u001b[0m\u001b[0;34m)\u001b[0m\u001b[0;34m\u001b[0m\u001b[0m\n\u001b[0m\u001b[1;32m      3\u001b[0m     \u001b[0mprint\u001b[0m\u001b[0;34m(\u001b[0m\u001b[0mk\u001b[0m\u001b[0;34m[\u001b[0m\u001b[0;34m'url'\u001b[0m\u001b[0;34m]\u001b[0m\u001b[0;34m)\u001b[0m\u001b[0;34m\u001b[0m\u001b[0m\n",
      "\u001b[0;31mNameError\u001b[0m: name 'display' is not defined"
     ]
    }
   ],
   "source": [
    "for k in top_five_indices:\n",
    "    display(Image(value=requests.get(k['preview_img']).content))\n",
    "    print(k['url'])"
   ]
  },
  {
   "cell_type": "code",
   "execution_count": null,
   "metadata": {
    "collapsed": false,
    "deletable": true,
    "editable": true
   },
   "outputs": [],
   "source": [
    "hash_list = []\n",
    "for k in obj['posts']:\n",
    "    if len(k['comments']['list']):\n",
    "        text = k['comments']['list'][0]['comment']\n",
    "        hash_list.extend(re.findall(r\"#(\\w+)\", text))\n",
    "hash_dict = {}\n",
    "for j in hash_list:\n",
    "        if j not in hash_dict.keys():\n",
    "            hash_dict[j] = 1\n",
    "        else:\n",
    "            hash_dict[j] += 1\n",
    "print(dict_sort_des(hash_dict)[:5])"
   ]
  },
  {
   "cell_type": "code",
   "execution_count": null,
   "metadata": {
    "collapsed": true,
    "deletable": true,
    "editable": true
   },
   "outputs": [],
   "source": [
    "with open('bjp4india.json', 'r') as myfile:\n",
    "    data=myfile.read()\n",
    "obj = json.loads(data)"
   ]
  },
  {
   "cell_type": "code",
   "execution_count": null,
   "metadata": {
    "collapsed": false,
    "deletable": true,
    "editable": true
   },
   "outputs": [],
   "source": [
    "video_count = 0 \n",
    "for k in obj['posts']:\n",
    "    if not len(k['imgs']):\n",
    "        video_count += 1\n",
    "\"There are \"+str(video_count) + \" video posts.\""
   ]
  },
  {
   "cell_type": "code",
   "execution_count": null,
   "metadata": {
    "collapsed": false,
    "deletable": true,
    "editable": true
   },
   "outputs": [],
   "source": [
    "labels = ['Videos', 'Images']\n",
    "sizes = [video_count, len(obj['posts'])-video_count]\n",
    "explode = (0.1, 0.1)  \n",
    "\n",
    "fig1, ax1 = plt.subplots()\n",
    "ax1.pie(sizes, explode=explode, labels=labels, autopct='%1.1f%%',\n",
    "        shadow=True, startangle=90)\n",
    "ax1.axis('equal')  \n",
    "ax1.set_title('Contents of Posts')\n",
    "plt.show()"
   ]
  },
  {
   "cell_type": "code",
   "execution_count": null,
   "metadata": {
    "collapsed": false,
    "deletable": true,
    "editable": true
   },
   "outputs": [],
   "source": [
    "post_list = obj['posts']\n",
    "top_200_indices = []\n",
    "for j in range(200):\n",
    "    max_score = -100\n",
    "    max_index = -1\n",
    "    for k in obj['posts']:\n",
    "        l = math.log(k['likes']['count']+1) + math.log(k['views']+1)+k['comments']['count']\n",
    "        if l>max_score:\n",
    "            max_score = l\n",
    "            max_index = obj['posts'].index(k)\n",
    "    top_200_indices.append(max_index)\n",
    "    del post_list[max_index]\n",
    "print(top_200_indices)"
   ]
  },
  {
   "cell_type": "code",
   "execution_count": null,
   "metadata": {
    "collapsed": false,
    "deletable": true,
    "editable": true
   },
   "outputs": [],
   "source": [
    "text_content = ''\n",
    "for k in top_200_indices:\n",
    "    try:\n",
    "        text_content += clean_tweet(obj['posts'][k]['comments']['list'][0]['comment'])\n",
    "    except:\n",
    "        pass\n",
    "wordcloud_plot(text_content,'black')"
   ]
  },
  {
   "cell_type": "markdown",
   "metadata": {
    "deletable": true,
    "editable": true
   },
   "source": [
    "The most occuring words are:\n",
    "1. Shri - A title used to give respect to a person. It is because the BJP follows Hinduisitic(Hindu) style of writing.\n",
    "2. BJP - The name of the party, it is used for emphasis and glorification of the party.\n",
    "3. leader - Calling themselves strong leaders, especially, Shri Narendra Modi.\n",
    "4. India - The country of the party, signifies Nationalist feelings of the party."
   ]
  },
  {
   "cell_type": "code",
   "execution_count": null,
   "metadata": {
    "collapsed": false,
    "deletable": true,
    "editable": true
   },
   "outputs": [],
   "source": [
    "hash_list = []\n",
    "for k in obj['posts']:\n",
    "    if len(k['comments']['list']):\n",
    "        text = k['comments']['list'][0]['comment']\n",
    "        hash_list.extend(re.findall(r\"#(\\w+)\", text))\n",
    "hash_dict = {}\n",
    "for j in hash_list:\n",
    "        if j not in hash_dict.keys():\n",
    "            hash_dict[j] = 1\n",
    "        else:\n",
    "            hash_dict[j] += 1\n",
    "print(dict_sort_des(hash_dict)[:5])"
   ]
  },
  {
   "cell_type": "code",
   "execution_count": null,
   "metadata": {
    "collapsed": true,
    "deletable": true,
    "editable": true
   },
   "outputs": [],
   "source": [
    "with open('explore_2019-04-14 05-00-26.json', 'r') as myfile:\n",
    "    data=myfile.read()\n",
    "obj = json.loads(data)"
   ]
  },
  {
   "cell_type": "code",
   "execution_count": null,
   "metadata": {
    "collapsed": true,
    "deletable": true,
    "editable": true
   },
   "outputs": [],
   "source": [
    "post_list = obj[0]['posts']\n",
    "top_five_indices = []\n",
    "for j in range(5):\n",
    "    max_score = -100\n",
    "    max_index = -1\n",
    "    for k in post_list:\n",
    "#         print(k)\n",
    "        l = math.log(k['likes']['count']+1) + math.log(k['views']+1)+k['comments']['count']\n",
    "        if l>max_score:\n",
    "            max_score = l\n",
    "            max_index = obj[0]['posts'].index(k)\n",
    "    top_five_indices.append(obj[0]['posts'][max_index])\n",
    "    post_list.remove(obj[0]['posts'][max_index])\n",
    "# print(top_five_indices)"
   ]
  },
  {
   "cell_type": "code",
   "execution_count": null,
   "metadata": {
    "collapsed": false,
    "deletable": true,
    "editable": true
   },
   "outputs": [],
   "source": [
    "for k in top_five_indices:\n",
    "    display(Image(value=requests.get(k['preview_img']).content))\n",
    "    print(k['url'])"
   ]
  },
  {
   "cell_type": "code",
   "execution_count": null,
   "metadata": {
    "collapsed": false,
    "deletable": true,
    "editable": true
   },
   "outputs": [],
   "source": [
    "single_count = 0\n",
    "multiple_count = 0\n",
    "for k in obj[0]['posts']:\n",
    "    if (not len(k['imgs'])) or (len(k['imgs'])==1) :\n",
    "        single_count += 1\n",
    "    else:\n",
    "        multiple_count += 1\n",
    "        \n",
    "labels = ['Single', 'Multiple']\n",
    "sizes = [single_count, multiple_count]\n",
    "explode = (0.1, 0.1)  \n",
    "\n",
    "fig1, ax1 = plt.subplots()\n",
    "ax1.pie(sizes, explode=explode, labels=labels, autopct='%1.1f%%',\n",
    "        shadow=True, startangle=90)\n",
    "ax1.axis('equal')  \n",
    "ax1.set_title('Contents of Posts')\n",
    "plt.show()"
   ]
  }
 ],
 "metadata": {
  "kernelspec": {
   "display_name": "Python 3",
   "language": "python",
   "name": "python3"
  },
  "language_info": {
   "codemirror_mode": {
    "name": "ipython",
    "version": 3
   },
   "file_extension": ".py",
   "mimetype": "text/x-python",
   "name": "python",
   "nbconvert_exporter": "python",
   "pygments_lexer": "ipython3",
   "version": "3.5.2"
  }
 },
 "nbformat": 4,
 "nbformat_minor": 2
}
